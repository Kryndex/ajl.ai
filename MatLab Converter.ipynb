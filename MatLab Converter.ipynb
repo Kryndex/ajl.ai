{
 "cells": [
  {
   "cell_type": "code",
   "execution_count": 1,
   "metadata": {
    "collapsed": true
   },
   "outputs": [],
   "source": [
    "import matlab.engine\n",
    "eng = matlab.engine.start_matlab()\n",
    "\n",
    "import pandas"
   ]
  },
  {
   "cell_type": "code",
   "execution_count": 2,
   "metadata": {
    "collapsed": false
   },
   "outputs": [],
   "source": [
    "content = eng.load(\"imdb_crop/imdb.mat\",nargout=1)\n",
    "imdb = content['imdb']"
   ]
  },
  {
   "cell_type": "code",
   "execution_count": 3,
   "metadata": {
    "collapsed": false
   },
   "outputs": [
    {
     "data": {
      "text/plain": [
       "['name',\n",
       " 'dob',\n",
       " 'gender',\n",
       " 'celeb_id',\n",
       " 'second_face_score',\n",
       " 'full_path',\n",
       " 'photo_taken',\n",
       " 'face_score',\n",
       " 'celeb_names',\n",
       " 'face_location']"
      ]
     },
     "execution_count": 3,
     "metadata": {},
     "output_type": "execute_result"
    }
   ],
   "source": [
    "imdb.keys()"
   ]
  },
  {
   "cell_type": "code",
   "execution_count": 4,
   "metadata": {
    "collapsed": false
   },
   "outputs": [],
   "source": [
    "id_lookup = imdb['celeb_id'][0][:]"
   ]
  },
  {
   "cell_type": "code",
   "execution_count": 8,
   "metadata": {
    "collapsed": false
   },
   "outputs": [],
   "source": [
    "name = imdb['name']"
   ]
  },
  {
   "cell_type": "code",
   "execution_count": 35,
   "metadata": {
    "collapsed": false
   },
   "outputs": [],
   "source": [
    "dob = eng.datevec(imdb['dob'])\n",
    "photo_taken = imdb[\"photo_taken\"][0]"
   ]
  },
  {
   "cell_type": "code",
   "execution_count": 36,
   "metadata": {
    "collapsed": false
   },
   "outputs": [],
   "source": [
    "age = [int(photo_taken[i] - vec[0]) for i, vec in enumerate(dob)]"
   ]
  },
  {
   "cell_type": "code",
   "execution_count": 6,
   "metadata": {
    "collapsed": true
   },
   "outputs": [],
   "source": [
    "gender = imdb[\"gender\"][0][:]"
   ]
  },
  {
   "cell_type": "code",
   "execution_count": 5,
   "metadata": {
    "collapsed": true
   },
   "outputs": [],
   "source": [
    "full_path = imdb[\"full_path\"]"
   ]
  },
  {
   "cell_type": "code",
   "execution_count": 37,
   "metadata": {
    "collapsed": false
   },
   "outputs": [
    {
     "data": {
      "text/plain": [
       "[460723, 460723, 460723, 460723, 460723, 460723, 460723]"
      ]
     },
     "execution_count": 37,
     "metadata": {},
     "output_type": "execute_result"
    }
   ],
   "source": [
    "[len(v) for v in [id_lookup, name, dob, photo_taken, gender, full_path, age]]"
   ]
  },
  {
   "cell_type": "code",
   "execution_count": 38,
   "metadata": {
    "collapsed": false
   },
   "outputs": [
    {
     "data": {
      "text/html": [
       "<div>\n",
       "<table border=\"1\" class=\"dataframe\">\n",
       "  <thead>\n",
       "    <tr style=\"text-align: right;\">\n",
       "      <th></th>\n",
       "      <th>age</th>\n",
       "      <th>gender</th>\n",
       "      <th>name</th>\n",
       "      <th>path</th>\n",
       "    </tr>\n",
       "  </thead>\n",
       "  <tbody>\n",
       "    <tr>\n",
       "      <th>0</th>\n",
       "      <td>69</td>\n",
       "      <td>1.0</td>\n",
       "      <td>Fred Astaire</td>\n",
       "      <td>01/nm0000001_rm124825600_1899-5-10_1968.jpg</td>\n",
       "    </tr>\n",
       "    <tr>\n",
       "      <th>1</th>\n",
       "      <td>71</td>\n",
       "      <td>1.0</td>\n",
       "      <td>Fred Astaire</td>\n",
       "      <td>01/nm0000001_rm3343756032_1899-5-10_1970.jpg</td>\n",
       "    </tr>\n",
       "    <tr>\n",
       "      <th>2</th>\n",
       "      <td>69</td>\n",
       "      <td>1.0</td>\n",
       "      <td>Fred Astaire</td>\n",
       "      <td>01/nm0000001_rm577153792_1899-5-10_1968.jpg</td>\n",
       "    </tr>\n",
       "    <tr>\n",
       "      <th>3</th>\n",
       "      <td>69</td>\n",
       "      <td>1.0</td>\n",
       "      <td>Fred Astaire</td>\n",
       "      <td>01/nm0000001_rm946909184_1899-5-10_1968.jpg</td>\n",
       "    </tr>\n",
       "    <tr>\n",
       "      <th>4</th>\n",
       "      <td>69</td>\n",
       "      <td>1.0</td>\n",
       "      <td>Fred Astaire</td>\n",
       "      <td>01/nm0000001_rm980463616_1899-5-10_1968.jpg</td>\n",
       "    </tr>\n",
       "    <tr>\n",
       "      <th>5</th>\n",
       "      <td>67</td>\n",
       "      <td>0.0</td>\n",
       "      <td>Lauren Bacall</td>\n",
       "      <td>02/nm0000002_rm1075631616_1924-9-16_1991.jpg</td>\n",
       "    </tr>\n",
       "    <tr>\n",
       "      <th>6</th>\n",
       "      <td>80</td>\n",
       "      <td>0.0</td>\n",
       "      <td>Lauren Bacall</td>\n",
       "      <td>02/nm0000002_rm1346607872_1924-9-16_2004.jpg</td>\n",
       "    </tr>\n",
       "    <tr>\n",
       "      <th>7</th>\n",
       "      <td>80</td>\n",
       "      <td>0.0</td>\n",
       "      <td>Lauren Bacall</td>\n",
       "      <td>02/nm0000002_rm1363385088_1924-9-16_2004.jpg</td>\n",
       "    </tr>\n",
       "    <tr>\n",
       "      <th>8</th>\n",
       "      <td>67</td>\n",
       "      <td>0.0</td>\n",
       "      <td>Lauren Bacall</td>\n",
       "      <td>02/nm0000002_rm1411175936_1924-9-16_1991.jpg</td>\n",
       "    </tr>\n",
       "    <tr>\n",
       "      <th>9</th>\n",
       "      <td>80</td>\n",
       "      <td>0.0</td>\n",
       "      <td>Lauren Bacall</td>\n",
       "      <td>02/nm0000002_rm1447271168_1924-9-16_2004.jpg</td>\n",
       "    </tr>\n",
       "  </tbody>\n",
       "</table>\n",
       "</div>"
      ],
      "text/plain": [
       "   age  gender           name                                          path\n",
       "0   69     1.0   Fred Astaire   01/nm0000001_rm124825600_1899-5-10_1968.jpg\n",
       "1   71     1.0   Fred Astaire  01/nm0000001_rm3343756032_1899-5-10_1970.jpg\n",
       "2   69     1.0   Fred Astaire   01/nm0000001_rm577153792_1899-5-10_1968.jpg\n",
       "3   69     1.0   Fred Astaire   01/nm0000001_rm946909184_1899-5-10_1968.jpg\n",
       "4   69     1.0   Fred Astaire   01/nm0000001_rm980463616_1899-5-10_1968.jpg\n",
       "5   67     0.0  Lauren Bacall  02/nm0000002_rm1075631616_1924-9-16_1991.jpg\n",
       "6   80     0.0  Lauren Bacall  02/nm0000002_rm1346607872_1924-9-16_2004.jpg\n",
       "7   80     0.0  Lauren Bacall  02/nm0000002_rm1363385088_1924-9-16_2004.jpg\n",
       "8   67     0.0  Lauren Bacall  02/nm0000002_rm1411175936_1924-9-16_1991.jpg\n",
       "9   80     0.0  Lauren Bacall  02/nm0000002_rm1447271168_1924-9-16_2004.jpg"
      ]
     },
     "execution_count": 38,
     "metadata": {},
     "output_type": "execute_result"
    }
   ],
   "source": [
    "keyed = {\"path\": full_path, \"name\": name, \"gender\": gender, \"age\": age}\n",
    "df = pandas.DataFrame(keyed)\n",
    "df.to_csv('matlabby.csv', encoding='utf-8')\n",
    "df[:10]"
   ]
  },
  {
   "cell_type": "code",
   "execution_count": null,
   "metadata": {
    "collapsed": true
   },
   "outputs": [],
   "source": []
  }
 ],
 "metadata": {
  "anaconda-cloud": {},
  "kernelspec": {
   "display_name": "Python 2",
   "language": "python",
   "name": "python2"
  },
  "language_info": {
   "codemirror_mode": {
    "name": "ipython",
    "version": 2
   },
   "file_extension": ".py",
   "mimetype": "text/x-python",
   "name": "python",
   "nbconvert_exporter": "python",
   "pygments_lexer": "ipython2",
   "version": "2.7.13"
  }
 },
 "nbformat": 4,
 "nbformat_minor": 1
}
